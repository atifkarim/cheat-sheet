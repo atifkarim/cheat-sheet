{
 "cells": [
  {
   "cell_type": "code",
   "execution_count": 14,
   "metadata": {},
   "outputs": [],
   "source": [
    "import os\n",
    "import datetime\n",
    "date = datetime.datetime.now().strftime(\"%d-%m-%Y %H:%M:%S\")\n",
    "#str(date.today())\n",
    "\n",
    "def main():\n",
    "    f= open(\"/home/atif/cheat-sheet/file_create\"+ str(date) +\".txt\",\"w+\")\n",
    "    #f=open(\"guru99.txt\",\"a+\")\n",
    "    for i in range(10):\n",
    "         f.write(\"This is line %d\\r\\n\" % (i+1))\n",
    "    #f.close()\n",
    "    #Open the file back and read the contents\n",
    "    #f=open(\"/home/atif/cheat-sheet/file_create.txt\", \"r\")\n",
    "    #if f.mode == 'r':\n",
    "     #   contents =f.read()\n",
    "     #   print (contents)\n",
    "    #or, readlines reads the individual line into a list\n",
    "    #fl =f.readlines()\n",
    "    #for x in fl:\n",
    "    #print(x)\n",
    "if __name__== \"__main__\":\n",
    "  main()\n"
   ]
  },
  {
   "cell_type": "code",
   "execution_count": null,
   "metadata": {},
   "outputs": [],
   "source": []
  },
  {
   "cell_type": "code",
   "execution_count": null,
   "metadata": {},
   "outputs": [],
   "source": []
  }
 ],
 "metadata": {
  "kernelspec": {
   "display_name": "Python 3",
   "language": "python",
   "name": "python3"
  },
  "language_info": {
   "codemirror_mode": {
    "name": "ipython",
    "version": 3
   },
   "file_extension": ".py",
   "mimetype": "text/x-python",
   "name": "python",
   "nbconvert_exporter": "python",
   "pygments_lexer": "ipython3",
   "version": "3.6.6"
  }
 },
 "nbformat": 4,
 "nbformat_minor": 2
}
